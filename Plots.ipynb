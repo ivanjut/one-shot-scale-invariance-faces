{
 "cells": [
  {
   "cell_type": "code",
   "execution_count": 1,
   "metadata": {},
   "outputs": [],
   "source": [
    "import json\n",
    "import pandas as pd\n",
    "import matplotlib.pyplot as plt\n",
    "import numpy as np\n",
    "import seaborn as sns\n",
    "%matplotlib inline"
   ]
  },
  {
   "cell_type": "code",
   "execution_count": 140,
   "metadata": {},
   "outputs": [
    {
     "name": "stderr",
     "output_type": "stream",
     "text": [
      "/Users/theo/anaconda3/envs/one_shot_scale_invariance/lib/python3.6/site-packages/ipykernel_launcher.py:1: FutureWarning: Passing a negative integer is deprecated in version 1.0 and will not be supported in future version. Instead, use None to not limit the column width.\n",
      "  \"\"\"Entry point for launching an IPython kernel.\n"
     ]
    }
   ],
   "source": [
    "pd.set_option('display.max_colwidth', -1)\n",
    "data = json.load(open('accuracies_k=3.json'))\n",
    "df = pd.concat({k: pd.DataFrame(v,) for k, v in data.items()}, axis=0)"
   ]
  },
  {
   "cell_type": "code",
   "execution_count": 141,
   "metadata": {},
   "outputs": [
    {
     "data": {
      "text/html": [
       "<div>\n",
       "<style scoped>\n",
       "    .dataframe tbody tr th:only-of-type {\n",
       "        vertical-align: middle;\n",
       "    }\n",
       "\n",
       "    .dataframe tbody tr th {\n",
       "        vertical-align: top;\n",
       "    }\n",
       "\n",
       "    .dataframe thead th {\n",
       "        text-align: right;\n",
       "    }\n",
       "</style>\n",
       "<table border=\"1\" class=\"dataframe\">\n",
       "  <thead>\n",
       "    <tr style=\"text-align: right;\">\n",
       "      <th></th>\n",
       "      <th></th>\n",
       "      <th>implementation_0</th>\n",
       "      <th>implementation_1</th>\n",
       "      <th>implementation_2</th>\n",
       "    </tr>\n",
       "  </thead>\n",
       "  <tbody>\n",
       "    <tr>\n",
       "      <th rowspan=\"5\" valign=\"top\">resnet101</th>\n",
       "      <th>0</th>\n",
       "      <td>[1.0, 1.0, 1.0]</td>\n",
       "      <td>[0.9924812030075187, 0.9962406015037594, 0.9962406015037594]</td>\n",
       "      <td>NaN</td>\n",
       "    </tr>\n",
       "    <tr>\n",
       "      <th>1</th>\n",
       "      <td>[0.5864661654135338, 0.6015037593984962, 0.6127819548872181]</td>\n",
       "      <td>[0.5639097744360902, 0.6879699248120301, 0.650375939849624]</td>\n",
       "      <td>NaN</td>\n",
       "    </tr>\n",
       "    <tr>\n",
       "      <th>2</th>\n",
       "      <td>[0.5338345864661654, 0.5526315789473685, 0.5300751879699248]</td>\n",
       "      <td>[0.6090225563909775, 0.6165413533834586, 0.6466165413533834]</td>\n",
       "      <td>NaN</td>\n",
       "    </tr>\n",
       "    <tr>\n",
       "      <th>3</th>\n",
       "      <td>[0.5375939849624061, 0.5375939849624061, 0.5789473684210527]</td>\n",
       "      <td>[0.6240601503759399, 0.5488721804511278, 0.6390977443609023]</td>\n",
       "      <td>NaN</td>\n",
       "    </tr>\n",
       "    <tr>\n",
       "      <th>4</th>\n",
       "      <td>[0.518796992481203, 0.5263157894736842, 0.5375939849624061]</td>\n",
       "      <td>[0.5902255639097744, 0.5488721804511278, 0.5789473684210527]</td>\n",
       "      <td>NaN</td>\n",
       "    </tr>\n",
       "    <tr>\n",
       "      <th rowspan=\"5\" valign=\"top\">vgg19</th>\n",
       "      <th>0</th>\n",
       "      <td>[1.0, 1.0, 1.0]</td>\n",
       "      <td>[0.9887218045112782, 0.9548872180451128, 0.9887218045112782]</td>\n",
       "      <td>NaN</td>\n",
       "    </tr>\n",
       "    <tr>\n",
       "      <th>1</th>\n",
       "      <td>[0.556390977443609, 0.5639097744360902, 0.5338345864661654]</td>\n",
       "      <td>[0.5676691729323309, 0.5375939849624061, 0.5037593984962406]</td>\n",
       "      <td>NaN</td>\n",
       "    </tr>\n",
       "    <tr>\n",
       "      <th>2</th>\n",
       "      <td>[0.556390977443609, 0.5676691729323309, 0.5714285714285714]</td>\n",
       "      <td>[0.4849624060150376, 0.5112781954887218, 0.518796992481203]</td>\n",
       "      <td>NaN</td>\n",
       "    </tr>\n",
       "    <tr>\n",
       "      <th>3</th>\n",
       "      <td>[0.5300751879699248, 0.5225563909774437, 0.5451127819548872]</td>\n",
       "      <td>[0.5075187969924813, 0.48120300751879697, 0.5225563909774437]</td>\n",
       "      <td>NaN</td>\n",
       "    </tr>\n",
       "    <tr>\n",
       "      <th>4</th>\n",
       "      <td>[0.5225563909774437, 0.5488721804511278, 0.5225563909774437]</td>\n",
       "      <td>[0.4849624060150376, 0.5526315789473685, 0.5075187969924813]</td>\n",
       "      <td>NaN</td>\n",
       "    </tr>\n",
       "    <tr>\n",
       "      <th rowspan=\"5\" valign=\"top\">densenet169</th>\n",
       "      <th>0</th>\n",
       "      <td>[1.0, 1.0, 1.0]</td>\n",
       "      <td>[0.9962406015037594, 0.9962406015037594, 1.0]</td>\n",
       "      <td>NaN</td>\n",
       "    </tr>\n",
       "    <tr>\n",
       "      <th>1</th>\n",
       "      <td>[0.5601503759398496, 0.5526315789473685, 0.5150375939849624]</td>\n",
       "      <td>[0.5902255639097744, 0.631578947368421, 0.5977443609022557]</td>\n",
       "      <td>NaN</td>\n",
       "    </tr>\n",
       "    <tr>\n",
       "      <th>2</th>\n",
       "      <td>[0.5526315789473685, 0.5263157894736842, 0.518796992481203]</td>\n",
       "      <td>[0.5977443609022557, 0.5526315789473685, 0.5639097744360902]</td>\n",
       "      <td>NaN</td>\n",
       "    </tr>\n",
       "    <tr>\n",
       "      <th>3</th>\n",
       "      <td>[0.5300751879699248, 0.5, 0.5225563909774437]</td>\n",
       "      <td>[0.6015037593984962, 0.6203007518796992, 0.6278195488721805]</td>\n",
       "      <td>NaN</td>\n",
       "    </tr>\n",
       "    <tr>\n",
       "      <th>4</th>\n",
       "      <td>[0.5488721804511278, 0.5037593984962406, 0.5902255639097744]</td>\n",
       "      <td>[0.5300751879699248, 0.6052631578947368, 0.5639097744360902]</td>\n",
       "      <td>NaN</td>\n",
       "    </tr>\n",
       "    <tr>\n",
       "      <th rowspan=\"5\" valign=\"top\">cornet2</th>\n",
       "      <th>0</th>\n",
       "      <td>[1.0, 1.0, 1.0]</td>\n",
       "      <td>[0.9962406015037594, 0.9962406015037594, 0.9962406015037594]</td>\n",
       "      <td>NaN</td>\n",
       "    </tr>\n",
       "    <tr>\n",
       "      <th>1</th>\n",
       "      <td>[0.518796992481203, 0.5639097744360902, 0.5639097744360902]</td>\n",
       "      <td>[0.6654135338345865, 0.6729323308270677, 0.6729323308270677]</td>\n",
       "      <td>NaN</td>\n",
       "    </tr>\n",
       "    <tr>\n",
       "      <th>2</th>\n",
       "      <td>[0.5676691729323309, 0.5413533834586466, 0.5676691729323309]</td>\n",
       "      <td>[0.6127819548872181, 0.6691729323308271, 0.5939849624060151]</td>\n",
       "      <td>NaN</td>\n",
       "    </tr>\n",
       "    <tr>\n",
       "      <th>3</th>\n",
       "      <td>[0.5864661654135338, 0.5639097744360902, 0.5075187969924813]</td>\n",
       "      <td>[0.5939849624060151, 0.6390977443609023, 0.6052631578947368]</td>\n",
       "      <td>NaN</td>\n",
       "    </tr>\n",
       "    <tr>\n",
       "      <th>4</th>\n",
       "      <td>[0.5225563909774437, 0.5300751879699248, 0.5601503759398496]</td>\n",
       "      <td>[0.5451127819548872, 0.6203007518796992, 0.5827067669172933]</td>\n",
       "      <td>NaN</td>\n",
       "    </tr>\n",
       "  </tbody>\n",
       "</table>\n",
       "</div>"
      ],
      "text/plain": [
       "                                                           implementation_0  \\\n",
       "resnet101   0  [1.0, 1.0, 1.0]                                                \n",
       "            1  [0.5864661654135338, 0.6015037593984962, 0.6127819548872181]   \n",
       "            2  [0.5338345864661654, 0.5526315789473685, 0.5300751879699248]   \n",
       "            3  [0.5375939849624061, 0.5375939849624061, 0.5789473684210527]   \n",
       "            4  [0.518796992481203, 0.5263157894736842, 0.5375939849624061]    \n",
       "vgg19       0  [1.0, 1.0, 1.0]                                                \n",
       "            1  [0.556390977443609, 0.5639097744360902, 0.5338345864661654]    \n",
       "            2  [0.556390977443609, 0.5676691729323309, 0.5714285714285714]    \n",
       "            3  [0.5300751879699248, 0.5225563909774437, 0.5451127819548872]   \n",
       "            4  [0.5225563909774437, 0.5488721804511278, 0.5225563909774437]   \n",
       "densenet169 0  [1.0, 1.0, 1.0]                                                \n",
       "            1  [0.5601503759398496, 0.5526315789473685, 0.5150375939849624]   \n",
       "            2  [0.5526315789473685, 0.5263157894736842, 0.518796992481203]    \n",
       "            3  [0.5300751879699248, 0.5, 0.5225563909774437]                  \n",
       "            4  [0.5488721804511278, 0.5037593984962406, 0.5902255639097744]   \n",
       "cornet2     0  [1.0, 1.0, 1.0]                                                \n",
       "            1  [0.518796992481203, 0.5639097744360902, 0.5639097744360902]    \n",
       "            2  [0.5676691729323309, 0.5413533834586466, 0.5676691729323309]   \n",
       "            3  [0.5864661654135338, 0.5639097744360902, 0.5075187969924813]   \n",
       "            4  [0.5225563909774437, 0.5300751879699248, 0.5601503759398496]   \n",
       "\n",
       "                                                            implementation_1  \\\n",
       "resnet101   0  [0.9924812030075187, 0.9962406015037594, 0.9962406015037594]    \n",
       "            1  [0.5639097744360902, 0.6879699248120301, 0.650375939849624]     \n",
       "            2  [0.6090225563909775, 0.6165413533834586, 0.6466165413533834]    \n",
       "            3  [0.6240601503759399, 0.5488721804511278, 0.6390977443609023]    \n",
       "            4  [0.5902255639097744, 0.5488721804511278, 0.5789473684210527]    \n",
       "vgg19       0  [0.9887218045112782, 0.9548872180451128, 0.9887218045112782]    \n",
       "            1  [0.5676691729323309, 0.5375939849624061, 0.5037593984962406]    \n",
       "            2  [0.4849624060150376, 0.5112781954887218, 0.518796992481203]     \n",
       "            3  [0.5075187969924813, 0.48120300751879697, 0.5225563909774437]   \n",
       "            4  [0.4849624060150376, 0.5526315789473685, 0.5075187969924813]    \n",
       "densenet169 0  [0.9962406015037594, 0.9962406015037594, 1.0]                   \n",
       "            1  [0.5902255639097744, 0.631578947368421, 0.5977443609022557]     \n",
       "            2  [0.5977443609022557, 0.5526315789473685, 0.5639097744360902]    \n",
       "            3  [0.6015037593984962, 0.6203007518796992, 0.6278195488721805]    \n",
       "            4  [0.5300751879699248, 0.6052631578947368, 0.5639097744360902]    \n",
       "cornet2     0  [0.9962406015037594, 0.9962406015037594, 0.9962406015037594]    \n",
       "            1  [0.6654135338345865, 0.6729323308270677, 0.6729323308270677]    \n",
       "            2  [0.6127819548872181, 0.6691729323308271, 0.5939849624060151]    \n",
       "            3  [0.5939849624060151, 0.6390977443609023, 0.6052631578947368]    \n",
       "            4  [0.5451127819548872, 0.6203007518796992, 0.5827067669172933]    \n",
       "\n",
       "               implementation_2  \n",
       "resnet101   0 NaN                \n",
       "            1 NaN                \n",
       "            2 NaN                \n",
       "            3 NaN                \n",
       "            4 NaN                \n",
       "vgg19       0 NaN                \n",
       "            1 NaN                \n",
       "            2 NaN                \n",
       "            3 NaN                \n",
       "            4 NaN                \n",
       "densenet169 0 NaN                \n",
       "            1 NaN                \n",
       "            2 NaN                \n",
       "            3 NaN                \n",
       "            4 NaN                \n",
       "cornet2     0 NaN                \n",
       "            1 NaN                \n",
       "            2 NaN                \n",
       "            3 NaN                \n",
       "            4 NaN                "
      ]
     },
     "execution_count": 141,
     "metadata": {},
     "output_type": "execute_result"
    }
   ],
   "source": [
    "df"
   ]
  },
  {
   "cell_type": "markdown",
   "metadata": {},
   "source": [
    "### Implementation 0 Plots"
   ]
  },
  {
   "cell_type": "code",
   "execution_count": 142,
   "metadata": {},
   "outputs": [],
   "source": [
    "imp_0_df = pd.DataFrame(index=df.index)"
   ]
  },
  {
   "cell_type": "code",
   "execution_count": 143,
   "metadata": {
    "scrolled": true
   },
   "outputs": [],
   "source": [
    "imp_0_df['mean_acc'] = df['implementation_0'].apply(lambda x: np.mean(x))\n",
    "imp_0_df['std_acc'] = df['implementation_0'].apply(lambda x: np.std(x))"
   ]
  },
  {
   "cell_type": "code",
   "execution_count": 144,
   "metadata": {},
   "outputs": [
    {
     "data": {
      "text/plain": [
       "MultiIndex([(  'resnet101', '0'),\n",
       "            (  'resnet101', '1'),\n",
       "            (  'resnet101', '2'),\n",
       "            (  'resnet101', '3'),\n",
       "            (  'resnet101', '4'),\n",
       "            (      'vgg19', '0'),\n",
       "            (      'vgg19', '1'),\n",
       "            (      'vgg19', '2'),\n",
       "            (      'vgg19', '3'),\n",
       "            (      'vgg19', '4'),\n",
       "            ('densenet169', '0'),\n",
       "            ('densenet169', '1'),\n",
       "            ('densenet169', '2'),\n",
       "            ('densenet169', '3'),\n",
       "            ('densenet169', '4'),\n",
       "            (    'cornet2', '0'),\n",
       "            (    'cornet2', '1'),\n",
       "            (    'cornet2', '2'),\n",
       "            (    'cornet2', '3'),\n",
       "            (    'cornet2', '4')],\n",
       "           )"
      ]
     },
     "execution_count": 144,
     "metadata": {},
     "output_type": "execute_result"
    }
   ],
   "source": [
    "imp_0_df.index"
   ]
  },
  {
   "cell_type": "code",
   "execution_count": 145,
   "metadata": {},
   "outputs": [
    {
     "data": {
      "text/html": [
       "<div>\n",
       "<style scoped>\n",
       "    .dataframe tbody tr th:only-of-type {\n",
       "        vertical-align: middle;\n",
       "    }\n",
       "\n",
       "    .dataframe tbody tr th {\n",
       "        vertical-align: top;\n",
       "    }\n",
       "\n",
       "    .dataframe thead th {\n",
       "        text-align: right;\n",
       "    }\n",
       "</style>\n",
       "<table border=\"1\" class=\"dataframe\">\n",
       "  <thead>\n",
       "    <tr style=\"text-align: right;\">\n",
       "      <th></th>\n",
       "      <th></th>\n",
       "      <th>mean_acc</th>\n",
       "      <th>std_acc</th>\n",
       "    </tr>\n",
       "    <tr>\n",
       "      <th>level_1</th>\n",
       "      <th>level_0</th>\n",
       "      <th></th>\n",
       "      <th></th>\n",
       "    </tr>\n",
       "  </thead>\n",
       "  <tbody>\n",
       "    <tr>\n",
       "      <th>0</th>\n",
       "      <th>resnet101</th>\n",
       "      <td>1.000000</td>\n",
       "      <td>0.000000</td>\n",
       "    </tr>\n",
       "    <tr>\n",
       "      <th>1</th>\n",
       "      <th>resnet101</th>\n",
       "      <td>0.600251</td>\n",
       "      <td>0.010780</td>\n",
       "    </tr>\n",
       "    <tr>\n",
       "      <th>2</th>\n",
       "      <th>resnet101</th>\n",
       "      <td>0.538847</td>\n",
       "      <td>0.009867</td>\n",
       "    </tr>\n",
       "    <tr>\n",
       "      <th>3</th>\n",
       "      <th>resnet101</th>\n",
       "      <td>0.551378</td>\n",
       "      <td>0.019494</td>\n",
       "    </tr>\n",
       "    <tr>\n",
       "      <th>4</th>\n",
       "      <th>resnet101</th>\n",
       "      <td>0.527569</td>\n",
       "      <td>0.007725</td>\n",
       "    </tr>\n",
       "    <tr>\n",
       "      <th>0</th>\n",
       "      <th>vgg19</th>\n",
       "      <td>1.000000</td>\n",
       "      <td>0.000000</td>\n",
       "    </tr>\n",
       "    <tr>\n",
       "      <th>1</th>\n",
       "      <th>vgg19</th>\n",
       "      <td>0.551378</td>\n",
       "      <td>0.012779</td>\n",
       "    </tr>\n",
       "    <tr>\n",
       "      <th>2</th>\n",
       "      <th>vgg19</th>\n",
       "      <td>0.565163</td>\n",
       "      <td>0.006390</td>\n",
       "    </tr>\n",
       "    <tr>\n",
       "      <th>3</th>\n",
       "      <th>vgg19</th>\n",
       "      <td>0.532581</td>\n",
       "      <td>0.009378</td>\n",
       "    </tr>\n",
       "    <tr>\n",
       "      <th>4</th>\n",
       "      <th>vgg19</th>\n",
       "      <td>0.531328</td>\n",
       "      <td>0.012405</td>\n",
       "    </tr>\n",
       "    <tr>\n",
       "      <th>0</th>\n",
       "      <th>densenet169</th>\n",
       "      <td>1.000000</td>\n",
       "      <td>0.000000</td>\n",
       "    </tr>\n",
       "    <tr>\n",
       "      <th>1</th>\n",
       "      <th>densenet169</th>\n",
       "      <td>0.542607</td>\n",
       "      <td>0.019734</td>\n",
       "    </tr>\n",
       "    <tr>\n",
       "      <th>2</th>\n",
       "      <th>densenet169</th>\n",
       "      <td>0.532581</td>\n",
       "      <td>0.014506</td>\n",
       "    </tr>\n",
       "    <tr>\n",
       "      <th>3</th>\n",
       "      <th>densenet169</th>\n",
       "      <td>0.517544</td>\n",
       "      <td>0.012779</td>\n",
       "    </tr>\n",
       "    <tr>\n",
       "      <th>4</th>\n",
       "      <th>densenet169</th>\n",
       "      <td>0.547619</td>\n",
       "      <td>0.035311</td>\n",
       "    </tr>\n",
       "    <tr>\n",
       "      <th>0</th>\n",
       "      <th>cornet2</th>\n",
       "      <td>1.000000</td>\n",
       "      <td>0.000000</td>\n",
       "    </tr>\n",
       "    <tr>\n",
       "      <th>1</th>\n",
       "      <th>cornet2</th>\n",
       "      <td>0.548872</td>\n",
       "      <td>0.021266</td>\n",
       "    </tr>\n",
       "    <tr>\n",
       "      <th>2</th>\n",
       "      <th>cornet2</th>\n",
       "      <td>0.558897</td>\n",
       "      <td>0.012405</td>\n",
       "    </tr>\n",
       "    <tr>\n",
       "      <th>3</th>\n",
       "      <th>cornet2</th>\n",
       "      <td>0.552632</td>\n",
       "      <td>0.033202</td>\n",
       "    </tr>\n",
       "    <tr>\n",
       "      <th>4</th>\n",
       "      <th>cornet2</th>\n",
       "      <td>0.537594</td>\n",
       "      <td>0.016242</td>\n",
       "    </tr>\n",
       "  </tbody>\n",
       "</table>\n",
       "</div>"
      ],
      "text/plain": [
       "                     mean_acc   std_acc\n",
       "level_1 level_0                        \n",
       "0       resnet101    1.000000  0.000000\n",
       "1       resnet101    0.600251  0.010780\n",
       "2       resnet101    0.538847  0.009867\n",
       "3       resnet101    0.551378  0.019494\n",
       "4       resnet101    0.527569  0.007725\n",
       "0       vgg19        1.000000  0.000000\n",
       "1       vgg19        0.551378  0.012779\n",
       "2       vgg19        0.565163  0.006390\n",
       "3       vgg19        0.532581  0.009378\n",
       "4       vgg19        0.531328  0.012405\n",
       "0       densenet169  1.000000  0.000000\n",
       "1       densenet169  0.542607  0.019734\n",
       "2       densenet169  0.532581  0.014506\n",
       "3       densenet169  0.517544  0.012779\n",
       "4       densenet169  0.547619  0.035311\n",
       "0       cornet2      1.000000  0.000000\n",
       "1       cornet2      0.548872  0.021266\n",
       "2       cornet2      0.558897  0.012405\n",
       "3       cornet2      0.552632  0.033202\n",
       "4       cornet2      0.537594  0.016242"
      ]
     },
     "execution_count": 145,
     "metadata": {},
     "output_type": "execute_result"
    }
   ],
   "source": [
    "imp_0_df.reset_index().set_index(['level_1', 'level_0'])"
   ]
  },
  {
   "cell_type": "code",
   "execution_count": 146,
   "metadata": {},
   "outputs": [
    {
     "data": {
      "text/plain": [
       "<AxesSubplot:xlabel='level_1'>"
      ]
     },
     "execution_count": 146,
     "metadata": {},
     "output_type": "execute_result"
    },
    {
     "data": {
      "image/png": "[encoded data removed]",
      "text/plain": [
       "<Figure size 432x288 with 1 Axes>"
      ]
     },
     "metadata": {
      "needs_background": "light"
     },
     "output_type": "display_data"
    }
   ],
   "source": [
    "imp_0_df.reset_index().set_index(['level_1', 'level_0']).loc[pd.IndexSlice[['1', '2', '3', '4'],:,:]]['mean_acc'].unstack().plot(kind='bar', stacked=False)"
   ]
  },
  {
   "cell_type": "code",
   "execution_count": 147,
   "metadata": {},
   "outputs": [
    {
     "data": {
      "text/plain": [
       "resnet101    0    0.000000\n",
       "             1    0.010780\n",
       "             2    0.009867\n",
       "             3    0.019494\n",
       "             4    0.007725\n",
       "vgg19        0    0.000000\n",
       "             1    0.012779\n",
       "             2    0.006390\n",
       "             3    0.009378\n",
       "             4    0.012405\n",
       "densenet169  0    0.000000\n",
       "             1    0.019734\n",
       "             2    0.014506\n",
       "             3    0.012779\n",
       "             4    0.035311\n",
       "cornet2      0    0.000000\n",
       "             1    0.021266\n",
       "             2    0.012405\n",
       "             3    0.033202\n",
       "             4    0.016242\n",
       "Name: std_acc, dtype: float64"
      ]
     },
     "execution_count": 147,
     "metadata": {},
     "output_type": "execute_result"
    }
   ],
   "source": [
    "imp_0_df['std_acc']"
   ]
  },
  {
   "cell_type": "code",
   "execution_count": 148,
   "metadata": {},
   "outputs": [
    {
     "data": {
      "text/plain": [
       "<AxesSubplot:>"
      ]
     },
     "execution_count": 148,
     "metadata": {},
     "output_type": "execute_result"
    },
    {
     "data": {
      "image/png": "[encoded data removed]",
      "text/plain": [
       "<Figure size 432x288 with 1 Axes>"
      ]
     },
     "metadata": {
      "needs_background": "light"
     },
     "output_type": "display_data"
    }
   ],
   "source": [
    "imp_0_df['mean_acc'].loc[pd.IndexSlice[:, ['1', '2', '3', '4'],:]].unstack().plot(kind='bar', yerr=imp_0_df['std_acc'].loc[pd.IndexSlice[:,['1', '2', '3', '4'],:]].unstack(), stacked=False)\n"
   ]
  },
  {
   "cell_type": "code",
   "execution_count": 149,
   "metadata": {},
   "outputs": [
    {
     "data": {
      "text/plain": [
       "<matplotlib.legend.Legend at 0x7f900980e4a8>"
      ]
     },
     "execution_count": 149,
     "metadata": {},
     "output_type": "execute_result"
    },
    {
     "data": {
      "image/png": "[encoded data removed]",
      "text/plain": [
       "<Figure size 432x288 with 1 Axes>"
      ]
     },
     "metadata": {
      "needs_background": "light"
     },
     "output_type": "display_data"
    }
   ],
   "source": [
    "imp_0_df['mean_acc'].unstack().plot(kind='bar', yerr=imp_0_df['std_acc'].unstack(), stacked=False)\n",
    "plt.xlabel('Model')\n",
    "plt.xticks(rotation=45)\n",
    "plt.ylabel('Accuracy')\n",
    "plt.title('Approach #0')\n",
    "plt.axhline(y=0.5, color='black', linestyle='--')\n",
    "plt.legend(['Chance', '1x', '2x', '3x', '4x', '5x'])"
   ]
  },
  {
   "cell_type": "code",
   "execution_count": 25,
   "metadata": {
    "scrolled": true
   },
   "outputs": [
    {
     "data": {
      "text/plain": [
       "<matplotlib.axes._subplots.AxesSubplot at 0x12851d190>"
      ]
     },
     "execution_count": 25,
     "metadata": {},
     "output_type": "execute_result"
    },
    {
     "data": {
      "image/png": "[encoded data removed]",
      "text/plain": [
       "<Figure size 432x288 with 1 Axes>"
      ]
     },
     "metadata": {
      "needs_background": "light"
     },
     "output_type": "display_data"
    }
   ],
   "source": [
    "imp_0_df.loc[pd.IndexSlice['cornet2', ['1', '2', '3', '4'], :]]['mean_acc'].plot()\n",
    "imp_0_df.loc[pd.IndexSlice['densenet169', ['1', '2', '3', '4'], :]]['mean_acc'].plot()\n",
    "imp_0_df.loc[pd.IndexSlice['resnet101', ['1', '2', '3', '4'], :]]['mean_acc'].plot()\n",
    "imp_0_df.loc[pd.IndexSlice['vgg19', ['1', '2', '3', '4'], :]]['mean_acc'].plot()"
   ]
  },
  {
   "cell_type": "markdown",
   "metadata": {},
   "source": [
    "### Implementation 1 Plots"
   ]
  },
  {
   "cell_type": "code",
   "execution_count": 77,
   "metadata": {},
   "outputs": [],
   "source": [
    "imp_1_df = pd.DataFrame(index=df.index)"
   ]
  },
  {
   "cell_type": "code",
   "execution_count": 78,
   "metadata": {
    "scrolled": true
   },
   "outputs": [],
   "source": [
    "imp_1_df['mean_acc'] = df['implementation_1'].apply(lambda x: np.mean(x))\n",
    "imp_1_df['std_acc'] = df['implementation_1'].apply(lambda x: np.std(x))"
   ]
  },
  {
   "cell_type": "code",
   "execution_count": 85,
   "metadata": {},
   "outputs": [
    {
     "data": {
      "text/plain": [
       "MultiIndex(levels=[['cornet2', 'densenet169', 'resnet101', 'vgg19'], ['0', '1', '2', '3', '4']],\n",
       "           labels=[[0, 0, 0, 0, 0, 1, 1, 1, 1, 1, 2, 2, 2, 2, 2, 3, 3, 3, 3, 3], [0, 1, 2, 3, 4, 0, 1, 2, 3, 4, 0, 1, 2, 3, 4, 0, 1, 2, 3, 4]])"
      ]
     },
     "execution_count": 85,
     "metadata": {},
     "output_type": "execute_result"
    }
   ],
   "source": [
    "imp_1_df.index"
   ]
  },
  {
   "cell_type": "code",
   "execution_count": 86,
   "metadata": {},
   "outputs": [
    {
     "data": {
      "text/html": [
       "<div>\n",
       "<style scoped>\n",
       "    .dataframe tbody tr th:only-of-type {\n",
       "        vertical-align: middle;\n",
       "    }\n",
       "\n",
       "    .dataframe tbody tr th {\n",
       "        vertical-align: top;\n",
       "    }\n",
       "\n",
       "    .dataframe thead th {\n",
       "        text-align: right;\n",
       "    }\n",
       "</style>\n",
       "<table border=\"1\" class=\"dataframe\">\n",
       "  <thead>\n",
       "    <tr style=\"text-align: right;\">\n",
       "      <th></th>\n",
       "      <th></th>\n",
       "      <th>mean_acc</th>\n",
       "      <th>std_acc</th>\n",
       "    </tr>\n",
       "    <tr>\n",
       "      <th>level_1</th>\n",
       "      <th>level_0</th>\n",
       "      <th></th>\n",
       "      <th></th>\n",
       "    </tr>\n",
       "  </thead>\n",
       "  <tbody>\n",
       "    <tr>\n",
       "      <th>0</th>\n",
       "      <th>cornet2</th>\n",
       "      <td>0.996241</td>\n",
       "      <td>0.000000</td>\n",
       "    </tr>\n",
       "    <tr>\n",
       "      <th>1</th>\n",
       "      <th>cornet2</th>\n",
       "      <td>0.670426</td>\n",
       "      <td>0.003544</td>\n",
       "    </tr>\n",
       "    <tr>\n",
       "      <th>2</th>\n",
       "      <th>cornet2</th>\n",
       "      <td>0.625313</td>\n",
       "      <td>0.031949</td>\n",
       "    </tr>\n",
       "    <tr>\n",
       "      <th>3</th>\n",
       "      <th>cornet2</th>\n",
       "      <td>0.612782</td>\n",
       "      <td>0.019169</td>\n",
       "    </tr>\n",
       "    <tr>\n",
       "      <th>4</th>\n",
       "      <th>cornet2</th>\n",
       "      <td>0.582707</td>\n",
       "      <td>0.030695</td>\n",
       "    </tr>\n",
       "    <tr>\n",
       "      <th>0</th>\n",
       "      <th>densenet169</th>\n",
       "      <td>0.997494</td>\n",
       "      <td>0.001772</td>\n",
       "    </tr>\n",
       "    <tr>\n",
       "      <th>1</th>\n",
       "      <th>densenet169</th>\n",
       "      <td>0.606516</td>\n",
       "      <td>0.017986</td>\n",
       "    </tr>\n",
       "    <tr>\n",
       "      <th>2</th>\n",
       "      <th>densenet169</th>\n",
       "      <td>0.571429</td>\n",
       "      <td>0.019169</td>\n",
       "    </tr>\n",
       "    <tr>\n",
       "      <th>3</th>\n",
       "      <th>densenet169</th>\n",
       "      <td>0.616541</td>\n",
       "      <td>0.011067</td>\n",
       "    </tr>\n",
       "    <tr>\n",
       "      <th>4</th>\n",
       "      <th>densenet169</th>\n",
       "      <td>0.566416</td>\n",
       "      <td>0.030746</td>\n",
       "    </tr>\n",
       "    <tr>\n",
       "      <th>0</th>\n",
       "      <th>resnet101</th>\n",
       "      <td>0.994987</td>\n",
       "      <td>0.001772</td>\n",
       "    </tr>\n",
       "    <tr>\n",
       "      <th>1</th>\n",
       "      <th>resnet101</th>\n",
       "      <td>0.634085</td>\n",
       "      <td>0.051941</td>\n",
       "    </tr>\n",
       "    <tr>\n",
       "      <th>2</th>\n",
       "      <th>resnet101</th>\n",
       "      <td>0.624060</td>\n",
       "      <td>0.016242</td>\n",
       "    </tr>\n",
       "    <tr>\n",
       "      <th>3</th>\n",
       "      <th>resnet101</th>\n",
       "      <td>0.604010</td>\n",
       "      <td>0.039469</td>\n",
       "    </tr>\n",
       "    <tr>\n",
       "      <th>4</th>\n",
       "      <th>resnet101</th>\n",
       "      <td>0.572682</td>\n",
       "      <td>0.017454</td>\n",
       "    </tr>\n",
       "    <tr>\n",
       "      <th>0</th>\n",
       "      <th>vgg19</th>\n",
       "      <td>0.977444</td>\n",
       "      <td>0.015950</td>\n",
       "    </tr>\n",
       "    <tr>\n",
       "      <th>1</th>\n",
       "      <th>vgg19</th>\n",
       "      <td>0.536341</td>\n",
       "      <td>0.026106</td>\n",
       "    </tr>\n",
       "    <tr>\n",
       "      <th>2</th>\n",
       "      <th>vgg19</th>\n",
       "      <td>0.505013</td>\n",
       "      <td>0.014506</td>\n",
       "    </tr>\n",
       "    <tr>\n",
       "      <th>3</th>\n",
       "      <th>vgg19</th>\n",
       "      <td>0.503759</td>\n",
       "      <td>0.017090</td>\n",
       "    </tr>\n",
       "    <tr>\n",
       "      <th>4</th>\n",
       "      <th>vgg19</th>\n",
       "      <td>0.515038</td>\n",
       "      <td>0.028133</td>\n",
       "    </tr>\n",
       "  </tbody>\n",
       "</table>\n",
       "</div>"
      ],
      "text/plain": [
       "                     mean_acc   std_acc\n",
       "level_1 level_0                        \n",
       "0       cornet2      0.996241  0.000000\n",
       "1       cornet2      0.670426  0.003544\n",
       "2       cornet2      0.625313  0.031949\n",
       "3       cornet2      0.612782  0.019169\n",
       "4       cornet2      0.582707  0.030695\n",
       "0       densenet169  0.997494  0.001772\n",
       "1       densenet169  0.606516  0.017986\n",
       "2       densenet169  0.571429  0.019169\n",
       "3       densenet169  0.616541  0.011067\n",
       "4       densenet169  0.566416  0.030746\n",
       "0       resnet101    0.994987  0.001772\n",
       "1       resnet101    0.634085  0.051941\n",
       "2       resnet101    0.624060  0.016242\n",
       "3       resnet101    0.604010  0.039469\n",
       "4       resnet101    0.572682  0.017454\n",
       "0       vgg19        0.977444  0.015950\n",
       "1       vgg19        0.536341  0.026106\n",
       "2       vgg19        0.505013  0.014506\n",
       "3       vgg19        0.503759  0.017090\n",
       "4       vgg19        0.515038  0.028133"
      ]
     },
     "execution_count": 86,
     "metadata": {},
     "output_type": "execute_result"
    }
   ],
   "source": [
    "imp_1_df.reset_index().set_index(['level_1', 'level_0'])"
   ]
  },
  {
   "cell_type": "code",
   "execution_count": 94,
   "metadata": {},
   "outputs": [
    {
     "data": {
      "text/plain": [
       "<matplotlib.legend.Legend at 0x129de24d0>"
      ]
     },
     "execution_count": 94,
     "metadata": {},
     "output_type": "execute_result"
    },
    {
     "data": {
      "image/png": "[encoded data removed]",
      "text/plain": [
       "<Figure size 432x288 with 1 Axes>"
      ]
     },
     "metadata": {
      "needs_background": "light"
     },
     "output_type": "display_data"
    }
   ],
   "source": [
    "imp_1_df['mean_acc'].unstack().plot(kind='bar', yerr=imp_1_df['std_acc'].unstack(), stacked=False)\n",
    "plt.xlabel('Model')\n",
    "plt.xticks(rotation=45)\n",
    "plt.ylabel('Accuracy')\n",
    "plt.title('Approach #1')\n",
    "plt.axhline(y=0.5, color='black', linestyle='--')\n",
    "plt.legend(['Chance', '1x', '2x', '3x', '4x', '5x'])"
   ]
  },
  {
   "cell_type": "code",
   "execution_count": 91,
   "metadata": {
    "scrolled": false
   },
   "outputs": [
    {
     "data": {
      "text/plain": [
       "<matplotlib.legend.Legend at 0x129c61f90>"
      ]
     },
     "execution_count": 91,
     "metadata": {},
     "output_type": "execute_result"
    },
    {
     "data": {
      "image/png": "[encoded data removed]",
      "text/plain": [
       "<Figure size 432x288 with 1 Axes>"
      ]
     },
     "metadata": {
      "needs_background": "light"
     },
     "output_type": "display_data"
    }
   ],
   "source": [
    "imp_1_df.loc[pd.IndexSlice['cornet2', ['1', '2', '3', '4'], :]]['mean_acc'].plot()\n",
    "imp_1_df.loc[pd.IndexSlice['densenet169', ['1', '2', '3', '4'], :]]['mean_acc'].plot()\n",
    "imp_1_df.loc[pd.IndexSlice['resnet101', ['1', '2', '3', '4'], :]]['mean_acc'].plot()\n",
    "imp_1_df.loc[pd.IndexSlice['vgg19', ['1', '2', '3', '4'], :]]['mean_acc'].plot()\n",
    "plt.legend()"
   ]
  },
  {
   "cell_type": "markdown",
   "metadata": {},
   "source": [
    "### Implementation 2 Plots"
   ]
  },
  {
   "cell_type": "code",
   "execution_count": 163,
   "metadata": {},
   "outputs": [],
   "source": [
    "imp2_data = {'cornet2':{'0': [1.0, 1.0], '1': [0.785, 0.805], '2': [0.765, 0.7825], '3': [0.775, 0.81], '4': [0.715, 0.73]},\n",
    "    'vgg19':{'0': [1.0, 1.0], '1': [0.6075, 0.585], '2': [0.5875, 0.59], '3': [0.565, 0.6225], '4': [0.5875, 0.59]},\n",
    "    'densenet169': {'0': [1.0, 1.0], '1': [0.53, 0.535], '2': [0.5475, 0.55], '3': [0.55, 0.5175], '4': [0.5175, 0.52]},\n",
    "    'resnet101': {'0': [1.0, 0.985], '1': [0.5725, 0.535], '2': [0.5825, 0.5425], '3': [0.5325, 0.5525], '4': [0.5175, 0.5125]}\n",
    "            }"
   ]
  },
  {
   "cell_type": "code",
   "execution_count": 164,
   "metadata": {},
   "outputs": [],
   "source": [
    "df = pd.concat({k: pd.DataFrame(v,) for k, v in imp2_data.items()}, axis=0)"
   ]
  },
  {
   "cell_type": "code",
   "execution_count": 165,
   "metadata": {},
   "outputs": [],
   "source": [
    "df = df.unstack(level=1).stack(level=0)"
   ]
  },
  {
   "cell_type": "code",
   "execution_count": 166,
   "metadata": {},
   "outputs": [],
   "source": [
    "df[\"mean_acc\"] = df.mean(axis=1)\n",
    "df[\"std_acc\"] = df.std(axis=1)\n",
    "df.drop(columns=[0,1], inplace=True)\n",
    "imp_2_df = df"
   ]
  },
  {
   "cell_type": "code",
   "execution_count": 209,
   "metadata": {},
   "outputs": [
    {
     "data": {
      "text/html": [
       "<div>\n",
       "<style scoped>\n",
       "    .dataframe tbody tr th:only-of-type {\n",
       "        vertical-align: middle;\n",
       "    }\n",
       "\n",
       "    .dataframe tbody tr th {\n",
       "        vertical-align: top;\n",
       "    }\n",
       "\n",
       "    .dataframe thead th {\n",
       "        text-align: right;\n",
       "    }\n",
       "</style>\n",
       "<table border=\"1\" class=\"dataframe\">\n",
       "  <thead>\n",
       "    <tr style=\"text-align: right;\">\n",
       "      <th></th>\n",
       "      <th>0</th>\n",
       "      <th>1</th>\n",
       "      <th>2</th>\n",
       "      <th>3</th>\n",
       "      <th>4</th>\n",
       "    </tr>\n",
       "  </thead>\n",
       "  <tbody>\n",
       "    <tr>\n",
       "      <th>cornet2</th>\n",
       "      <td>0.0000</td>\n",
       "      <td>0.01000</td>\n",
       "      <td>0.00875</td>\n",
       "      <td>0.01750</td>\n",
       "      <td>0.00750</td>\n",
       "    </tr>\n",
       "    <tr>\n",
       "      <th>densenet169</th>\n",
       "      <td>0.0000</td>\n",
       "      <td>0.00250</td>\n",
       "      <td>0.00125</td>\n",
       "      <td>0.01625</td>\n",
       "      <td>0.00125</td>\n",
       "    </tr>\n",
       "    <tr>\n",
       "      <th>resnet101</th>\n",
       "      <td>0.0075</td>\n",
       "      <td>0.01875</td>\n",
       "      <td>0.02000</td>\n",
       "      <td>0.01000</td>\n",
       "      <td>0.00250</td>\n",
       "    </tr>\n",
       "    <tr>\n",
       "      <th>vgg19</th>\n",
       "      <td>0.0000</td>\n",
       "      <td>0.01125</td>\n",
       "      <td>0.00125</td>\n",
       "      <td>0.02875</td>\n",
       "      <td>0.00125</td>\n",
       "    </tr>\n",
       "  </tbody>\n",
       "</table>\n",
       "</div>"
      ],
      "text/plain": [
       "                  0        1        2        3        4\n",
       "cornet2      0.0000  0.01000  0.00875  0.01750  0.00750\n",
       "densenet169  0.0000  0.00250  0.00125  0.01625  0.00125\n",
       "resnet101    0.0075  0.01875  0.02000  0.01000  0.00250\n",
       "vgg19        0.0000  0.01125  0.00125  0.02875  0.00125"
      ]
     },
     "execution_count": 209,
     "metadata": {},
     "output_type": "execute_result"
    }
   ],
   "source": [
    "imp_2_df['std_acc'].unstack()"
   ]
  },
  {
   "cell_type": "code",
   "execution_count": 227,
   "metadata": {},
   "outputs": [
    {
     "data": {
      "text/plain": [
       "<matplotlib.legend.Legend at 0x7f900b5d0160>"
      ]
     },
     "execution_count": 227,
     "metadata": {},
     "output_type": "execute_result"
    },
    {
     "data": {
      "image/png": "[encoded data removed]",
      "text/plain": [
       "<Figure size 432x288 with 1 Axes>"
      ]
     },
     "metadata": {
      "needs_background": "light"
     },
     "output_type": "display_data"
    }
   ],
   "source": [
    "imp_2_df['mean_acc'].unstack().plot(kind='bar', yerr=imp_2_df['std_acc'].unstack(), stacked=False)\n",
    "plt.xlabel('Model')\n",
    "plt.xticks(rotation=45)\n",
    "plt.ylabel('Accuracy')\n",
    "plt.title('Approach #2')\n",
    "plt.axhline(y=0.5, color='black', linestyle='--')\n",
    "plt.legend(['Chance', '1x', '2x', '3x', '4x', '5x'], loc=\"lower right\")"
   ]
  },
  {
   "cell_type": "markdown",
   "metadata": {},
   "source": [
    "### Average Across Implementations"
   ]
  },
  {
   "cell_type": "code",
   "execution_count": 188,
   "metadata": {
    "scrolled": true
   },
   "outputs": [],
   "source": [
    "all_imps = pd.concat([imp_0_df, imp_1_df, imp_2_df], axis=1)"
   ]
  },
  {
   "cell_type": "code",
   "execution_count": 189,
   "metadata": {},
   "outputs": [],
   "source": [
    "all_imps.columns = ['mean_acc_0', 'std_acc_0', 'mean_acc_1', 'std_acc_1', 'mean_acc_2', 'std_acc_2']"
   ]
  },
  {
   "cell_type": "code",
   "execution_count": 193,
   "metadata": {},
   "outputs": [],
   "source": [
    "all_imps['mean_acc'] = all_imps[['mean_acc_0','mean_acc_1','mean_acc_2']].mean(axis=1)\n",
    "all_imps['std_acc'] = all_imps[['std_acc_0','std_acc_1','std_acc_2']].mean(axis=1)\n",
    "\n",
    "all_imps.drop(columns=['mean_acc_0', 'std_acc_0', 'mean_acc_1', 'std_acc_1', 'mean_acc_2', 'std_acc_2'], inplace=True)"
   ]
  },
  {
   "cell_type": "code",
   "execution_count": 196,
   "metadata": {},
   "outputs": [
    {
     "data": {
      "text/plain": [
       "<matplotlib.legend.Legend at 0x7f900a1195c0>"
      ]
     },
     "execution_count": 196,
     "metadata": {},
     "output_type": "execute_result"
    },
    {
     "data": {
      "image/png": "[encoded data removed]",
      "text/plain": [
       "<Figure size 432x288 with 1 Axes>"
      ]
     },
     "metadata": {
      "needs_background": "light"
     },
     "output_type": "display_data"
    }
   ],
   "source": [
    "all_imps['mean_acc'].unstack().plot(kind='bar', yerr=all_imps['std_acc'].unstack(), stacked=False)\n",
    "plt.xlabel('Model')\n",
    "plt.xticks(rotation=45)\n",
    "plt.ylabel('Accuracy')\n",
    "plt.title('Average Accuracy Across Approaches')\n",
    "plt.axhline(y=0.5, color='black', linestyle='--')\n",
    "plt.legend(['Chance', '1x', '2x', '3x', '4x', '5x'])"
   ]
  },
  {
   "cell_type": "code",
   "execution_count": 222,
   "metadata": {},
   "outputs": [
    {
     "data": {
      "text/plain": [
       "<matplotlib.lines.Line2D at 0x7f900b3f5710>"
      ]
     },
     "execution_count": 222,
     "metadata": {},
     "output_type": "execute_result"
    },
    {
     "data": {
      "image/png": "[encoded data removed]",
      "text/plain": [
       "<Figure size 432x288 with 1 Axes>"
      ]
     },
     "metadata": {
      "needs_background": "light"
     },
     "output_type": "display_data"
    }
   ],
   "source": [
    "agg_df = all_imps.groupby(level=0).mean()\n",
    "agg_df['Mean Accuracy'] = agg_df['mean_acc']\n",
    "agg_df.loc[:, [\"Mean Accuracy\"]].plot.bar(yerr=agg_df['std_acc'])\n",
    "plt.xlabel('Model')\n",
    "plt.xticks(rotation=45)\n",
    "plt.ylabel('Accuracy')\n",
    "plt.title('Scale Invariance')\n",
    "plt.ylim(0,1)\n",
    "plt.axhline(y=0.5, color='black', linestyle='--')"
   ]
  },
  {
   "cell_type": "code",
   "execution_count": 223,
   "metadata": {},
   "outputs": [
    {
     "data": {
      "text/html": [
       "<div>\n",
       "<style scoped>\n",
       "    .dataframe tbody tr th:only-of-type {\n",
       "        vertical-align: middle;\n",
       "    }\n",
       "\n",
       "    .dataframe tbody tr th {\n",
       "        vertical-align: top;\n",
       "    }\n",
       "\n",
       "    .dataframe thead th {\n",
       "        text-align: right;\n",
       "    }\n",
       "</style>\n",
       "<table border=\"1\" class=\"dataframe\">\n",
       "  <thead>\n",
       "    <tr style=\"text-align: right;\">\n",
       "      <th></th>\n",
       "      <th>mean_acc</th>\n",
       "      <th>std_acc</th>\n",
       "      <th>Mean Accuracy</th>\n",
       "    </tr>\n",
       "  </thead>\n",
       "  <tbody>\n",
       "    <tr>\n",
       "      <th>cornet2</th>\n",
       "      <td>0.717948</td>\n",
       "      <td>0.014148</td>\n",
       "      <td>0.717948</td>\n",
       "    </tr>\n",
       "    <tr>\n",
       "      <th>densenet169</th>\n",
       "      <td>0.642166</td>\n",
       "      <td>0.012288</td>\n",
       "      <td>0.642166</td>\n",
       "    </tr>\n",
       "    <tr>\n",
       "      <th>resnet101</th>\n",
       "      <td>0.654275</td>\n",
       "      <td>0.015566</td>\n",
       "      <td>0.654275</td>\n",
       "    </tr>\n",
       "    <tr>\n",
       "      <th>vgg19</th>\n",
       "      <td>0.639036</td>\n",
       "      <td>0.012349</td>\n",
       "      <td>0.639036</td>\n",
       "    </tr>\n",
       "  </tbody>\n",
       "</table>\n",
       "</div>"
      ],
      "text/plain": [
       "             mean_acc   std_acc  Mean Accuracy\n",
       "cornet2      0.717948  0.014148  0.717948     \n",
       "densenet169  0.642166  0.012288  0.642166     \n",
       "resnet101    0.654275  0.015566  0.654275     \n",
       "vgg19        0.639036  0.012349  0.639036     "
      ]
     },
     "execution_count": 223,
     "metadata": {},
     "output_type": "execute_result"
    }
   ],
   "source": [
    "agg_df"
   ]
  },
  {
   "cell_type": "code",
   "execution_count": null,
   "metadata": {},
   "outputs": [],
   "source": []
  }
 ],
 "metadata": {
  "kernelspec": {
   "display_name": "Python 3",
   "language": "python",
   "name": "python3"
  },
  "language_info": {
   "codemirror_mode": {
    "name": "ipython",
    "version": 3
   },
   "file_extension": ".py",
   "mimetype": "text/x-python",
   "name": "python",
   "nbconvert_exporter": "python",
   "pygments_lexer": "ipython3",
   "version": "3.6.12"
  }
 },
 "nbformat": 4,
 "nbformat_minor": 4
}
