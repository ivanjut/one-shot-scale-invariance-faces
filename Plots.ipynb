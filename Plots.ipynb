{
 "cells": [
  {
   "cell_type": "code",
   "execution_count": 15,
   "metadata": {},
   "outputs": [],
   "source": [
    "import json\n",
    "import pandas as pd\n",
    "import matplotlib.pyplot as plt\n",
    "import numpy as np"
   ]
  },
  {
   "cell_type": "code",
   "execution_count": 54,
   "metadata": {},
   "outputs": [
    {
     "name": "stderr",
     "output_type": "stream",
     "text": [
      "/Users/theo/anaconda3/envs/one_shot_scale_invariance/lib/python3.6/site-packages/ipykernel_launcher.py:1: FutureWarning: Passing a negative integer is deprecated in version 1.0 and will not be supported in future version. Instead, use None to not limit the column width.\n",
      "  \"\"\"Entry point for launching an IPython kernel.\n"
     ]
    }
   ],
   "source": [
    "pd.set_option('display.max_colwidth', -1)\n",
    "data = json.load(open('accuracies_k=3.json'))\n",
    "df = pd.concat({k: pd.DataFrame(v,) for k, v in data.items()}, axis=0)"
   ]
  },
  {
   "cell_type": "code",
   "execution_count": 44,
   "metadata": {},
   "outputs": [],
   "source": [
    "data = np.concatenate((np.array(df['implementation_0'].to_list()),np.array(df['implementation_1'].to_list())), axis=1)\n",
    "\n",
    "\n",
    "cols = [\n",
    "    \"implementation_0_0\", \"implementation_0_1\", \"implementation_0_2\",\n",
    "    \"implementation_1_0\", \"implementation_1_1\", \"implementation_1_2\"\n",
    "]\n",
    "df = pd.DataFrame(data, columns=cols, index=df.index)"
   ]
  },
  {
   "cell_type": "markdown",
   "metadata": {},
   "source": [
    "### Implementation 0 Plots"
   ]
  },
  {
   "cell_type": "code",
   "execution_count": 64,
   "metadata": {},
   "outputs": [],
   "source": [
    "imp_0_df = pd.DataFrame(index=df.index)"
   ]
  },
  {
   "cell_type": "code",
   "execution_count": 65,
   "metadata": {
    "scrolled": true
   },
   "outputs": [],
   "source": [
    "imp_0_df['mean_acc'] = df['implementation_0'].apply(lambda x: np.mean(x))\n",
    "imp_0_df['std_acc'] = df['implementation_0'].apply(lambda x: np.std(x))"
   ]
  },
  {
   "cell_type": "code",
   "execution_count": 67,
   "metadata": {},
   "outputs": [
    {
     "data": {
      "text/plain": [
       "<AxesSubplot:>"
      ]
     },
     "execution_count": 67,
     "metadata": {},
     "output_type": "execute_result"
    },
    {
     "data": {
      "image/png": "[encoded data removed]",
      "text/plain": [
       "<Figure size 432x288 with 1 Axes>"
      ]
     },
     "metadata": {
      "needs_background": "light"
     },
     "output_type": "display_data"
    }
   ],
   "source": [
    "imp_0_df.plot.bar()"
   ]
  },
  {
   "cell_type": "code",
   "execution_count": 49,
   "metadata": {},
   "outputs": [
    {
     "data": {
      "text/plain": [
       "cornet2        0.668546\n",
       "densenet169    0.649875\n",
       "resnet101      0.664787\n",
       "vgg19          0.621805\n",
       "dtype: float64"
      ]
     },
     "execution_count": 49,
     "metadata": {},
     "output_type": "execute_result"
    }
   ],
   "source": [
    "df.mean(axis=1).groupby(level=0).mean()"
   ]
  },
  {
   "cell_type": "code",
   "execution_count": 42,
   "metadata": {},
   "outputs": [
    {
     "data": {
      "text/html": [
       "<div>\n",
       "<style scoped>\n",
       "    .dataframe tbody tr th:only-of-type {\n",
       "        vertical-align: middle;\n",
       "    }\n",
       "\n",
       "    .dataframe tbody tr th {\n",
       "        vertical-align: top;\n",
       "    }\n",
       "\n",
       "    .dataframe thead th {\n",
       "        text-align: right;\n",
       "    }\n",
       "</style>\n",
       "<table border=\"1\" class=\"dataframe\">\n",
       "  <thead>\n",
       "    <tr style=\"text-align: right;\">\n",
       "      <th></th>\n",
       "      <th>implementation_2</th>\n",
       "      <th>implementation_0_mean</th>\n",
       "      <th>implementation_0_std</th>\n",
       "      <th>implementation_1_mean</th>\n",
       "      <th>implementation_1_std</th>\n",
       "    </tr>\n",
       "  </thead>\n",
       "  <tbody>\n",
       "    <tr>\n",
       "      <th>cornet2</th>\n",
       "      <td>NaN</td>\n",
       "      <td>0.639599</td>\n",
       "      <td>0.016623</td>\n",
       "      <td>0.697494</td>\n",
       "      <td>0.017072</td>\n",
       "    </tr>\n",
       "    <tr>\n",
       "      <th>densenet169</th>\n",
       "      <td>NaN</td>\n",
       "      <td>0.628070</td>\n",
       "      <td>0.016466</td>\n",
       "      <td>0.671679</td>\n",
       "      <td>0.016148</td>\n",
       "    </tr>\n",
       "    <tr>\n",
       "      <th>resnet101</th>\n",
       "      <td>NaN</td>\n",
       "      <td>0.643609</td>\n",
       "      <td>0.009573</td>\n",
       "      <td>0.685965</td>\n",
       "      <td>0.025376</td>\n",
       "    </tr>\n",
       "    <tr>\n",
       "      <th>vgg19</th>\n",
       "      <td>NaN</td>\n",
       "      <td>0.636090</td>\n",
       "      <td>0.008190</td>\n",
       "      <td>0.607519</td>\n",
       "      <td>0.020357</td>\n",
       "    </tr>\n",
       "  </tbody>\n",
       "</table>\n",
       "</div>"
      ],
      "text/plain": [
       "             implementation_2  implementation_0_mean  implementation_0_std  \\\n",
       "cornet2     NaN                0.639599               0.016623               \n",
       "densenet169 NaN                0.628070               0.016466               \n",
       "resnet101   NaN                0.643609               0.009573               \n",
       "vgg19       NaN                0.636090               0.008190               \n",
       "\n",
       "             implementation_1_mean  implementation_1_std  \n",
       "cornet2      0.697494               0.017072              \n",
       "densenet169  0.671679               0.016148              \n",
       "resnet101    0.685965               0.025376              \n",
       "vgg19        0.607519               0.020357              "
      ]
     },
     "execution_count": 42,
     "metadata": {},
     "output_type": "execute_result"
    }
   ],
   "source": [
    "df.groupby(level=0).mean()"
   ]
  },
  {
   "cell_type": "code",
   "execution_count": null,
   "metadata": {},
   "outputs": [],
   "source": []
  },
  {
   "cell_type": "code",
   "execution_count": 36,
   "metadata": {},
   "outputs": [],
   "source": [
    "df['implementation_0_mean'] = df['implementation_0'].apply(lambda x: np.mean(x))\n",
    "df['implementation_0_std'] = df['implementation_0'].apply(lambda x: np.std(x))\n",
    "df['implementation_1_mean'] = df['implementation_1'].apply(lambda x: np.mean(x))\n",
    "df['implementation_1_std'] = df['implementation_1'].apply(lambda x: np.std(x))\n",
    "df.drop(columns=[\"implementation_0\", \"implementation_1\"], inplace=True)"
   ]
  }
 ],
 "metadata": {
  "kernelspec": {
   "display_name": "Python 3",
   "language": "python",
   "name": "python3"
  },
  "language_info": {
   "codemirror_mode": {
    "name": "ipython",
    "version": 3
   },
   "file_extension": ".py",
   "mimetype": "text/x-python",
   "name": "python",
   "nbconvert_exporter": "python",
   "pygments_lexer": "ipython3",
   "version": "3.6.12"
  }
 },
 "nbformat": 4,
 "nbformat_minor": 4
}
