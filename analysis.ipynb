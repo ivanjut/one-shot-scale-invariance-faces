{
 "cells": [
  {
   "cell_type": "code",
   "execution_count": 5,
   "metadata": {
    "scrolled": true
   },
   "outputs": [],
   "source": [
    "import numpy as np\n",
    "import pandas as pd\n",
    "from matplotlib import pyplot as plt\n",
    "import seaborn as sns\n",
    "import sklearn\n",
    "import torch\n",
    "import torch.nn as nn\n",
    "%matplotlib inline"
   ]
  },
  {
   "cell_type": "markdown",
   "metadata": {},
   "source": [
    "# Read image data"
   ]
  },
  {
   "cell_type": "code",
   "execution_count": 6,
   "metadata": {
    "scrolled": true
   },
   "outputs": [],
   "source": [
    "image_path = 'SUFRData/image_files/uniform_bg/scaling'"
   ]
  },
  {
   "cell_type": "markdown",
   "metadata": {},
   "source": [
    "# Torchvision models"
   ]
  },
  {
   "cell_type": "code",
   "execution_count": 7,
   "metadata": {
    "scrolled": true
   },
   "outputs": [],
   "source": [
    "import torchvision.models as models\n",
    "from torchvision.models import VGG"
   ]
  },
  {
   "cell_type": "code",
   "execution_count": 8,
   "metadata": {
    "scrolled": true
   },
   "outputs": [],
   "source": [
    "vgg19 = models.vgg19(pretrained=True)"
   ]
  },
  {
   "cell_type": "markdown",
   "metadata": {},
   "source": [
    "#### Remove last layerfrom network architecture"
   ]
  },
  {
   "cell_type": "code",
   "execution_count": 9,
   "metadata": {},
   "outputs": [],
   "source": [
    "vgg19.classifier = nn.Sequential(*list(vgg19.classifier.children())[:-1])"
   ]
  },
  {
   "cell_type": "markdown",
   "metadata": {},
   "source": [
    "### TODO: Double check process image"
   ]
  },
  {
   "cell_type": "code",
   "execution_count": 10,
   "metadata": {},
   "outputs": [],
   "source": [
    "from torchvision import transforms\n",
    "from PIL import Image\n",
    "\n",
    "def load_img(image_path, img_idx):\n",
    "    return Image.open('{}/{}.jpg'.format(image_path, img_idx))\n",
    "\n",
    "def process_img(img):    \n",
    "    transform = transforms.Compose([\n",
    "     transforms.Resize(256),                    \n",
    "     transforms.CenterCrop(224),\n",
    "     transforms.ToTensor(),\n",
    "     transforms.Normalize(\n",
    "         mean=[0.485, 0.456, 0.406],\n",
    "         std=[0.229, 0.224, 0.225]                  \n",
    "    )])\n",
    "    img = transform(img)\n",
    "    processed_img = torch.unsqueeze(img, 0)\n",
    "    return processed_img"
   ]
  },
  {
   "cell_type": "markdown",
   "metadata": {},
   "source": [
    "#### Process Data"
   ]
  },
  {
   "cell_type": "markdown",
   "metadata": {},
   "source": [
    "## Implementation 0: Correlation-based classifier"
   ]
  },
  {
   "cell_type": "code",
   "execution_count": 11,
   "metadata": {
    "collapsed": true
   },
   "outputs": [
    {
     "name": "stdout",
     "output_type": "stream",
     "text": [
      "50\n",
      "100\n",
      "150\n",
      "200\n",
      "250\n",
      "300\n",
      "350\n",
      "400\n",
      "450\n",
      "500\n",
      "550\n",
      "600\n",
      "650\n",
      "700\n",
      "750\n",
      "800\n",
      "850\n",
      "900\n",
      "950\n",
      "1000\n",
      "1050\n",
      "1100\n",
      "1150\n",
      "1200\n",
      "1250\n",
      "1300\n",
      "1350\n",
      "1400\n",
      "1450\n",
      "1500\n",
      "1550\n",
      "1600\n",
      "1650\n",
      "1700\n",
      "1750\n",
      "1800\n",
      "1850\n",
      "1900\n",
      "1950\n",
      "2000\n"
     ]
    }
   ],
   "source": [
    "import os\n",
    "\n",
    "data = []\n",
    "for i in range(1,2001):\n",
    "    if i % 50 == 0:\n",
    "        print(i)\n",
    "    img = load_img(image_path, i)\n",
    "    processed_img = process_img(img)\n",
    "    data.append(processed_img)\n",
    "data = torch.cat(data)"
   ]
  },
  {
   "cell_type": "markdown",
   "metadata": {},
   "source": [
    "#### Get Train and Test Set "
   ]
  },
  {
   "cell_type": "markdown",
   "metadata": {},
   "source": [
    "#### Classifier "
   ]
  },
  {
   "cell_type": "code",
   "execution_count": 13,
   "metadata": {},
   "outputs": [],
   "source": [
    "train_face_idxs = np.random.choice(400, 395, replace=False)\n",
    "\n",
    "mask = np.ones(400, dtype=bool)\n",
    "mask[train_face_idxs] = False\n",
    "test_face_idxs = np.arange(400)[mask]\n",
    "c_offset_values = [-2,-1,1,2]\n",
    "\n",
    "train_positive_pairs, train_negative_pairs = get_dataset_idxs(train_face_idxs, c_offset_values)\n",
    "test_positive_pairs, test_negative_pairs = get_dataset_idxs(test_face_idxs, [-1,1])"
   ]
  },
  {
   "cell_type": "code",
   "execution_count": 23,
   "metadata": {},
   "outputs": [],
   "source": [
    "def cos_sim(a,b):\n",
    "    dot = np.dot(a, b.T)\n",
    "    norm_product = np.linalg.norm(a)*np.linalg.norm(b)\n",
    "    return dot / norm_product\n",
    "\n",
    "def compare_img_pairs(model, train_idxs, use_corr=False):\n",
    "    \n",
    "    similarities = []\n",
    "    i = 0\n",
    "    \n",
    "    for img1_idx, img2_idx in train_idxs:\n",
    "        img1 = process_img(load_img(image_path, img1_idx))\n",
    "        img2 = process_img(load_img(image_path, img1_idx))\n",
    "        vector1 = model(img1).detach().numpy()\n",
    "        vector2 = model(img2).detach().numpy()\n",
    "        \n",
    "        if use_corr:\n",
    "            similarities.append(np.corrcoef(vector1, vector2)[0][1])\n",
    "        else:\n",
    "            similarities.append(cos_sim(vector1, vector2)[0][0])\n",
    "        print(i)\n",
    "        i += 1\n",
    "        \n",
    "    return similarities"
   ]
  },
  {
   "cell_type": "code",
   "execution_count": 24,
   "metadata": {},
   "outputs": [],
   "source": [
    "def parse_dataset(relative_path):\n",
    "    f = open(relative_path, \"r\")\n",
    "    dataset_idxs = []\n",
    "    for line in f.readlines():\n",
    "        img1_idx, img2_idx, label = line.strip().split(\" \")\n",
    "        dataset_idxs.append(((img1_idx, img2_idx), label))\n",
    "    return dataset_idxs\n",
    "\n",
    "def get_negative_pairs(face_idxs, c_offset_values):\n",
    "    negative_pairs = []\n",
    "    for c in c_offset_values:\n",
    "        for i in face_idxs:\n",
    "            for j in face_idxs:\n",
    "                # ensures i != j and that there are no duplicate pairs\n",
    "                if i > j: \n",
    "                    pair_idxs = (1+5*i+2,1+5*j+2+c)\n",
    "                    negative_pairs.append(pair_idxs)\n",
    "    return negative_pairs\n",
    "\n",
    "train_face_idxs = np.random.choice(400, 200, replace=False)\n",
    "c_offset_values = [-1]\n",
    "num_negative_pairs = train_face_idxs.shape[0] * len(c_offset_values)\n",
    "\n",
    "def get_dataset_idxs(face_idxs, c_offset_values, num_negative_pairs=None):\n",
    "    if num_negative_pairs is None:\n",
    "        num_negative_pairs = face_idxs.shape[0] * len(c_offset_values)\n",
    "    positive_pairs = np.array([(1+5*i+2,1+5*i+2+c) for c in c_offset_values for i in face_idxs])\n",
    "    all_negative_pairs = np.array(get_negative_pairs(face_idxs, c_offset_values))\n",
    "    negative_pairs = all_negative_pairs[list(np.random.choice(len(all_negative_pairs), num_negative_pairs, replace=False)), :]\n",
    "    return positive_pairs, negative_pairs"
   ]
  },
  {
   "cell_type": "code",
   "execution_count": null,
   "metadata": {},
   "outputs": [
    {
     "name": "stdout",
     "output_type": "stream",
     "text": [
      "0\n",
      "1\n",
      "2\n",
      "3\n"
     ]
    }
   ],
   "source": [
    "positive_pair_similarities = compare_img_pairs(vgg19, test_positive_pairs, use_corr=False)\n",
    "negative_pair_similarities = compare_img_pairs(vgg19, test_negative_pairs, use_corr=False)"
   ]
  },
  {
   "cell_type": "markdown",
   "metadata": {},
   "source": [
    "#### AUC Score"
   ]
  },
  {
   "cell_type": "code",
   "execution_count": null,
   "metadata": {},
   "outputs": [],
   "source": [
    "from sklearn.metrics import roc_auc_score\n",
    "\n",
    "labels = np.concatenate((np.zeros(len(negative_pair_similarities)), np.ones(len(positive_pair_similarities))))\n",
    "roc_auc_score(labels, negative_pair_similarities + positive_pair_similarities)"
   ]
  },
  {
   "cell_type": "markdown",
   "metadata": {},
   "source": [
    "#### Taking the correlation of the last layer is not the same as the correlation of the feature layer, I think"
   ]
  },
  {
   "cell_type": "code",
   "execution_count": 409,
   "metadata": {
    "scrolled": true
   },
   "outputs": [
    {
     "name": "stdout",
     "output_type": "stream",
     "text": [
      "-0.000677816269851673\n",
      "0.7523936201033044\n",
      "0.7522615612701068\n",
      "0.9999721735428134\n"
     ]
    }
   ],
   "source": [
    "W = np.random.rand(4096,1000)\n",
    "a = np.random.rand(4096)\n",
    "b = np.random.rand(4096)\n",
    "print(np.corrcoef(a, b)[0][1])\n",
    "print(np.corrcoef(np.dot(W.T,a), np.dot(W.T,b))[0][1])\n",
    "print(cos_sim(a,b))\n",
    "print(cos_sim(np.dot(W.T,a), np.dot(W.T,b)))"
   ]
  },
  {
   "cell_type": "markdown",
   "metadata": {},
   "source": [
    "### Implementation 1: MLP Same/Different Classifier "
   ]
  },
  {
   "cell_type": "code",
   "execution_count": 474,
   "metadata": {},
   "outputs": [],
   "source": [
    "vgg_img_idx_to_vec = {}\n",
    "\n",
    "def get_vgg_vec(img_idx, vgg_img_idx_to_vec, model, image_path):\n",
    "    if img_idx in vgg_img_idx_to_vec:\n",
    "        return vgg_img_idx_to_vec[img_idx]\n",
    "    else:\n",
    "        img_vec = process_img(load_img(image_path, img_idx))\n",
    "        img_feature_vec = model.forward(img_vec)\n",
    "        vgg_img_idx_to_vec[img_idx] = img_feature_vec\n",
    "        return img_feature_vec"
   ]
  },
  {
   "cell_type": "code",
   "execution_count": 4,
   "metadata": {},
   "outputs": [],
   "source": [
    "def mlp_preprocessing(model, positive_pairs, negative_pairs):\n",
    "\n",
    "    pairs = np.concatenate((positive_pairs, negative_pairs))\n",
    "\n",
    "    x = []\n",
    "    for img1_idx, img2_idx in pairs:\n",
    "        img1_feature_vec = get_vgg_vec(img1_idx, vgg_img_idx_to_vec, model, image_path)\n",
    "        img2_feature_vec = get_vgg_vec(img2_idx, vgg_img_idx_to_vec, model, image_path)\n",
    "        x_i = torch.cat([img1_feature_vec, img2_feature_vec], dim=1).detach().squeeze().numpy()\n",
    "        x.append(x_i)\n",
    "\n",
    "    x = np.array(x)\n",
    "    y = np.concatenate((np.zeros(len(negative_pairs)), np.ones(len(positive_pairs))))\n",
    "    \n",
    "    return x, y"
   ]
  },
  {
   "cell_type": "code",
   "execution_count": 3,
   "metadata": {},
   "outputs": [
    {
     "ename": "NameError",
     "evalue": "name 'mlp_preprocessing' is not defined",
     "output_type": "error",
     "traceback": [
      "\u001b[0;31m---------------------------------------------------------------------------\u001b[0m",
      "\u001b[0;31mNameError\u001b[0m                                 Traceback (most recent call last)",
      "\u001b[0;32m<ipython-input-3-f60f68d17491>\u001b[0m in \u001b[0;36m<module>\u001b[0;34m\u001b[0m\n\u001b[1;32m      2\u001b[0m \u001b[0;34m\u001b[0m\u001b[0m\n\u001b[1;32m      3\u001b[0m \u001b[0mmlp\u001b[0m \u001b[0;34m=\u001b[0m \u001b[0mMLPClassifier\u001b[0m\u001b[0;34m(\u001b[0m\u001b[0mhidden_layer_sizes\u001b[0m\u001b[0;34m=\u001b[0m\u001b[0;34m[\u001b[0m\u001b[0;36m512\u001b[0m\u001b[0;34m,\u001b[0m\u001b[0;36m64\u001b[0m\u001b[0;34m,\u001b[0m\u001b[0;36m10\u001b[0m\u001b[0;34m]\u001b[0m\u001b[0;34m)\u001b[0m\u001b[0;34m\u001b[0m\u001b[0;34m\u001b[0m\u001b[0m\n\u001b[0;32m----> 4\u001b[0;31m \u001b[0mtrain_x\u001b[0m\u001b[0;34m,\u001b[0m \u001b[0mtrain_y\u001b[0m \u001b[0;34m=\u001b[0m \u001b[0mmlp_preprocessing\u001b[0m\u001b[0;34m(\u001b[0m\u001b[0mvgg19\u001b[0m\u001b[0;34m,\u001b[0m \u001b[0mtrain_positive_pairs\u001b[0m\u001b[0;34m,\u001b[0m \u001b[0mtrain_negative_pairs\u001b[0m\u001b[0;34m)\u001b[0m\u001b[0;34m\u001b[0m\u001b[0;34m\u001b[0m\u001b[0m\n\u001b[0m\u001b[1;32m      5\u001b[0m \u001b[0mprint\u001b[0m\u001b[0;34m(\u001b[0m\u001b[0mtrain_x\u001b[0m\u001b[0;34m.\u001b[0m\u001b[0mshape\u001b[0m\u001b[0;34m)\u001b[0m\u001b[0;34m\u001b[0m\u001b[0;34m\u001b[0m\u001b[0m\n\u001b[1;32m      6\u001b[0m \u001b[0mprint\u001b[0m\u001b[0;34m(\u001b[0m\u001b[0mtrain_y\u001b[0m\u001b[0;34m.\u001b[0m\u001b[0mshape\u001b[0m\u001b[0;34m)\u001b[0m\u001b[0;34m\u001b[0m\u001b[0;34m\u001b[0m\u001b[0m\n",
      "\u001b[0;31mNameError\u001b[0m: name 'mlp_preprocessing' is not defined"
     ]
    }
   ],
   "source": [
    "from sklearn.neural_network import MLPClassifier\n",
    "\n",
    "mlp = MLPClassifier(hidden_layer_sizes=[512,64,10])\n",
    "train_x, train_y = mlp_preprocessing(vgg19, train_positive_pairs, train_negative_pairs)\n",
    "print(train_x.shape)\n",
    "print(train_y.shape)"
   ]
  },
  {
   "cell_type": "code",
   "execution_count": null,
   "metadata": {
    "scrolled": true
   },
   "outputs": [],
   "source": [
    "model = mlp.fit(train_x,train_y)\n",
    "model.best_loss_"
   ]
  },
  {
   "cell_type": "code",
   "execution_count": null,
   "metadata": {},
   "outputs": [],
   "source": [
    "test_x, test_y = mlp_preprocessing(vgg19, test_positive_pairs, test_negative_pairs)\n",
    "model.score(test_x, test_y)"
   ]
  },
  {
   "cell_type": "markdown",
   "metadata": {},
   "source": [
    "### Implementation 2: MLP Multiclass Classification and Correlation of feature vector for evaluation"
   ]
  },
  {
   "cell_type": "code",
   "execution_count": 188,
   "metadata": {},
   "outputs": [],
   "source": [
    "mlp = MLPClassifier(hidden_layer_sizes=[512,64,10])"
   ]
  },
  {
   "cell_type": "markdown",
   "metadata": {},
   "source": [
    "#### Training"
   ]
  },
  {
   "cell_type": "code",
   "execution_count": 225,
   "metadata": {},
   "outputs": [],
   "source": [
    "zeros = np.zeros((1,400))\n",
    "\n",
    "i = 1\n",
    "img_1 = process_img(load_img(image_path, 1))\n",
    "pretrain_vec_1 = vgg19(img_1)\n",
    "X = pretrain_vec_1.detach().numpy()\n",
    "\n",
    "Y = zeros.copy()\n",
    "Y[:, i // 400] = 1"
   ]
  },
  {
   "cell_type": "code",
   "execution_count": 226,
   "metadata": {},
   "outputs": [],
   "source": [
    "mlp = MLPClassifier(hidden_layer_sizes=[512,64,10])\n",
    "model = mlp.fit(X,Y)"
   ]
  },
  {
   "cell_type": "code",
   "execution_count": 228,
   "metadata": {},
   "outputs": [],
   "source": [
    "from sklearn.neural_network._base import ACTIVATIONS\n",
    "\n",
    "def deepest_layer(data, MLP, layer=0):\n",
    "    L = ACTIVATIONS['relu'](np.matmul(data, MLP.coefs_[layer]) + MLP.intercepts_[layer])\n",
    "    layer += 1\n",
    "    if layer >= len(MLP.coefs_)-1:\n",
    "        return L\n",
    "    else:\n",
    "        return deepest_layer(L, MLP, layer=layer)\n",
    "\n",
    "L = deepest_layer(X, model)"
   ]
  },
  {
   "cell_type": "markdown",
   "metadata": {},
   "source": [
    "#### Evaluation"
   ]
  },
  {
   "cell_type": "code",
   "execution_count": 233,
   "metadata": {},
   "outputs": [
    {
     "data": {
      "text/plain": [
       "array([[  0.        ,   0.        ,   0.        ,  66.26238368,\n",
       "         97.19137282, 102.93244527,  89.39741026,   0.        ,\n",
       "        123.05750886,   0.        ]])"
      ]
     },
     "execution_count": 233,
     "metadata": {},
     "output_type": "execute_result"
    }
   ],
   "source": [
    "L"
   ]
  }
 ],
 "metadata": {
  "kernelspec": {
   "display_name": "Python 3",
   "language": "python",
   "name": "python3"
  },
  "language_info": {
   "codemirror_mode": {
    "name": "ipython",
    "version": 3
   },
   "file_extension": ".py",
   "mimetype": "text/x-python",
   "name": "python",
   "nbconvert_exporter": "python",
   "pygments_lexer": "ipython3",
   "version": "3.6.12"
  }
 },
 "nbformat": 4,
 "nbformat_minor": 2
}
